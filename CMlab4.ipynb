{
 "cells": [
  {
   "cell_type": "markdown",
   "metadata": {},
   "source": [
    "# Метод прогонки\n"
   ]
  },
  {
   "cell_type": "code",
   "execution_count": 1,
   "metadata": {
    "collapsed": true
   },
   "outputs": [],
   "source": [
    "# b = under_main_diag\n",
    "# c = main_diag\n",
    "# d = above_main_diag\n",
    "# r = result_vect\n",
    "\n",
    "def sweep(b, c, d, r):\n",
    "    b, c, d, r = map(lambda k_list: list(map(float, k_list)), (b, c, d, r))\n",
    "    \n",
    "    n = len(r)\n",
    "    \n",
    "    sigma = [0] * n\n",
    "    delta = [0] * n\n",
    "    lambd = [0] * n\n",
    "    x = [0] * n\n",
    "    for i in range(n):\n",
    "        if i == 0:\n",
    "            delta[i] = c[i]\n",
    "        else:\n",
    "            delta[i] = c[i] + b[i] * sigma[i-1]\n",
    "\n",
    "        sigma[i] = - d[i] / delta[i]\n",
    "\n",
    "        if i == 0:\n",
    "            lambd[i] = r[i] / delta[i]\n",
    "        else:\n",
    "            lambd[i] = (r[i] - b[i] * lambd[i-1])/ delta[i]\n",
    "\n",
    "    for i in range(n - 1, -1, -1):\n",
    "        if i == n - 1:\n",
    "            x[i] = lambd[i]\n",
    "        else:\n",
    "            x[i] = sigma[i] * x[i+1] + lambd[i]\n",
    "\n",
    "            \n",
    "    return x"
   ]
  },
  {
   "cell_type": "code",
   "execution_count": 2,
   "metadata": {},
   "outputs": [
    {
     "name": "stdout",
     "output_type": "stream",
     "text": [
      "[2.0, 2.0, 2.0, 2.0, 2.0, 2.0, 2.0, 2.0, 1.9999999999999996, 2.0]\n"
     ]
    }
   ],
   "source": [
    "n = 10\n",
    "a = 1\n",
    "b = 4\n",
    "c = 1\n",
    "f = 12\n",
    "k1 = k2 = 0.25\n",
    "m1 = m2 = 2.5\n",
    "\n",
    "main_diag = [1] + [b] * (n-2) + [1]\n",
    "under_main_diag = [0] + [c] * (n-2) + [k1]\n",
    "above_main_diag = [k2] + (n-2) * [a] + [0]\n",
    "result_vect = [m1] + [f] * (n-2) + [m2]\n",
    "\n",
    "x = sweep(under_main_diag, main_diag, above_main_diag, result_vect)\n",
    "print(x)"
   ]
  },
  {
   "cell_type": "code",
   "execution_count": 3,
   "metadata": {},
   "outputs": [
    {
     "name": "stdout",
     "output_type": "stream",
     "text": [
      "[-1.6666666666666665, 7.333333333333333, 0.0]\n"
     ]
    }
   ],
   "source": [
    "main_diag = [2, 2, 10]\n",
    "under_main_diag = [0, 1, 0]\n",
    "above_main_diag = [1, 0, 0]\n",
    "result_vect = [4, 13, 0] \n",
    "\n",
    "x = sweep(under_main_diag, main_diag, above_main_diag, result_vect)\n",
    "print(x)"
   ]
  },
  {
   "cell_type": "code",
   "execution_count": 62,
   "metadata": {
    "collapsed": true
   },
   "outputs": [],
   "source": [
    "import matplotlib.pyplot as plt\n",
    "import numpy as mp\n",
    "import math\n",
    "import random as rd"
   ]
  },
  {
   "cell_type": "code",
   "execution_count": 135,
   "metadata": {},
   "outputs": [
    {
     "name": "stdout",
     "output_type": "stream",
     "text": [
      "arr_m =  [10, -11.947827690317139, 17.999267850885637, -16.967918686879727, 13.862267239919994, 10]\n"
     ]
    }
   ],
   "source": [
    "p = math.pi\n",
    "\n",
    "#arr_x = [0, p / 6, p / 3, p / 2]\n",
    "#arr_y = [1, 0.87, 0.5, 0]\n",
    "\n",
    "shag = 0.4\n",
    "\n",
    "arr_x = list(np.arange(-1, 1 + shag, shag))\n",
    "arr_y = [rd.uniform(0.0, 1.0) for _ in arr_x]\n",
    "\n",
    "m0 = [10]\n",
    "mn = [10]\n",
    "\n",
    "n = len(arr_x)\n",
    "\n",
    "arr_h = [0] + [arr_x[i] - arr_x[i - 1] for i in range(1, n)]\n",
    "\n",
    "equations_system = []\n",
    "free_vect = []\n",
    "\n",
    "for i in range(1,n-1):\n",
    "    equations_system.append([arr_h[i] / 6, \n",
    "                            (arr_h[i] + arr_h[i+1]) / 3, \n",
    "                            arr_h[i+1] / 6])\n",
    "    free_val = ((arr_y[i+1] - arr_y[i]) / arr_h[i+1] - (arr_y[i] - arr_y[i-1]) / arr_h[i])\n",
    "    if i == 1:\n",
    "        free_val -= m0[0] * arr_h[i] / 6\n",
    "    if i == n-1:\n",
    "        free_val -= mn[0] * arr_h[i+1] / 6\n",
    "    free_vect.append(free_val)\n",
    "    \n",
    "arr_c = []\n",
    "arr_b = [0]\n",
    "arr_d = []\n",
    "\n",
    "for vect in equations_system:\n",
    "    arr_c.append(vect[1])\n",
    "    arr_b.append(vect[0])\n",
    "    arr_d.append(vect[2])\n",
    "arr_d.append(0)\n",
    "    \n",
    "arr_b[0] = 0\n",
    "arr_d[-1] = 0\n",
    "\n",
    "flag = 0\n",
    "\n",
    "if len(arr_c) == 2:\n",
    "    flag = 1\n",
    "    arr_c.append(1)\n",
    "    arr_d[1] = 0\n",
    "    arr_b[2] = 0\n",
    "    free_vect.append(0)\n",
    "    \n",
    "arr_m = sweep(arr_b, arr_c, arr_d, free_vect)\n",
    "\n",
    "if flag == 1:\n",
    "    arr_m.pop()\n",
    "    \n",
    "arr_m = m0 + arr_m + mn\n",
    "\n",
    "print(\"arr_m = \",arr_m)"
   ]
  },
  {
   "cell_type": "code",
   "execution_count": 136,
   "metadata": {},
   "outputs": [],
   "source": [
    "arr_delta_y = [arr_y[i+1]-arr_y[i] for i in range(n-1)]\n",
    "arr_delta_m = [arr_m[i+1]-arr_m[i] for i in range(n-1)]\n",
    "#print(arr_delta_y)\n",
    "#print(arr_delta_m)\n",
    "#print(arr_h)\n",
    "\n",
    "arr_s = []\n",
    "for i in range(n-1):\n",
    "    arr_s.append([arr_y[i],\n",
    "                  1 / arr_h[i+1] * arr_delta_y[i] - arr_h[i+1] / 2 * arr_m[i] - arr_h[i+1] / 6 * arr_delta_m[i],\n",
    "                  arr_m[i] / 2,\n",
    "                  1 / 6 / arr_h[i+1] * arr_delta_m[i]])\n",
    "#print(arr_s)"
   ]
  },
  {
   "cell_type": "code",
   "execution_count": 137,
   "metadata": {
    "collapsed": true
   },
   "outputs": [],
   "source": [
    "def s_3(i, x):\n",
    "    arr_kf = arr_s[i]\n",
    "    res = 0\n",
    "    for j in range(len(arr_kf)):\n",
    "        res += arr_kf[j] * (x - arr_x[i]) ** j\n",
    "    return res"
   ]
  },
  {
   "cell_type": "code",
   "execution_count": 138,
   "metadata": {},
   "outputs": [
    {
     "data": {
      "image/png": "[encoded data removed]",
      "text/plain": [
       "<matplotlib.figure.Figure at 0x81d7588>"
      ]
     },
     "metadata": {},
     "output_type": "display_data"
    }
   ],
   "source": [
    "shag = (arr_x[-1] - arr_x[0]) / 100\n",
    "\n",
    "arr_x_calc = np.arange(arr_x[0], arr_x[-1] + shag, shag)\n",
    "arr_y_calc = []\n",
    "\n",
    "for x in arr_x_calc:\n",
    "    s_i = -1\n",
    "    for x1 in arr_x:\n",
    "        if x > x1 + shag:\n",
    "            s_i += 1\n",
    "        if s_i == -1:\n",
    "            s_i = 0\n",
    "    arr_y_calc.append(s_3(s_i, x))\n",
    "\n",
    "plt.plot(arr_x, arr_y, 'x', c=[0, 0, 0])\n",
    "plt.plot(arr_x_calc, arr_y_calc, c=\"r\")\n",
    "\n",
    "plt.show()\n",
    "    "
   ]
  },
  {
   "cell_type": "code",
   "execution_count": null,
   "metadata": {
    "collapsed": true
   },
   "outputs": [],
   "source": []
  }
 ],
 "metadata": {
  "kernelspec": {
   "display_name": "Python 3",
   "language": "python",
   "name": "python3"
  },
  "language_info": {
   "codemirror_mode": {
    "name": "ipython",
    "version": 3
   },
   "file_extension": ".py",
   "mimetype": "text/x-python",
   "name": "python",
   "nbconvert_exporter": "python",
   "pygments_lexer": "ipython3",
   "version": "3.6.3"
  }
 },
 "nbformat": 4,
 "nbformat_minor": 2
}
