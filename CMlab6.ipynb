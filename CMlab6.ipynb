{
 "cells": [
  {
   "cell_type": "code",
   "execution_count": 58,
   "metadata": {
    "collapsed": true
   },
   "outputs": [],
   "source": [
    "import sympy\n",
    "from sympy import cos\n",
    "import scipy.optimize\n",
    "import numpy as np\n",
    "import math"
   ]
  },
  {
   "cell_type": "markdown",
   "metadata": {},
   "source": [
    "# F(x) = (cos(x) - 1) / x"
   ]
  },
  {
   "cell_type": "code",
   "execution_count": 59,
   "metadata": {
    "collapsed": true
   },
   "outputs": [],
   "source": [
    "def f(x):\n",
    "    if x != 0:\n",
    "        return (math.cos(x) - 1) / x\n",
    "    else:\n",
    "        return 0\n",
    "def derivative_f(x):\n",
    "    n = 2\n",
    "    x, y = sympy.symbols('x y')\n",
    "    a = sympy.diff((cos(x) - 1) / x, x, n)\n",
    "    return a.evalf(subs={'x': 1})\n",
    "def minus_derivative_f(x):\n",
    "    return -derivative_f(x)"
   ]
  },
  {
   "cell_type": "code",
   "execution_count": 60,
   "metadata": {},
   "outputs": [],
   "source": [
    "a = 0\n",
    "b = 1\n",
    "max_derivative = scipy.optimize.minimize(minus_derivative_f, [(a + b) / 2], method='L-BFGS-B', bounds=[(a, b)])\n",
    "max_derivative_value = -max_derivative['fun']"
   ]
  },
  {
   "cell_type": "code",
   "execution_count": 61,
   "metadata": {
    "collapsed": true
   },
   "outputs": [],
   "source": [
    "def cent_rect(n):\n",
    "    h = (b-a) / n\n",
    "    return h * sum([f(a + h * i + h/2) for i in range(0,n)])\n",
    "\n",
    "def trapeze(n):\n",
    "    h = (b-a) / n\n",
    "    return h * ((f(a) + f(b))/2 + sum(f(a + h * i) for i in range(1, n)))\n",
    "\n",
    "def simpson(n):\n",
    "    h = (b-a) / (2 * n)\n",
    "    return h/3 * (f(a) + f(b) + 4 * sum([f(a + (2 * i-1) * h) for i in range(1, n+1)]) + 2 * sum([f(a + i * 2 * h) for i in range(1, n)]))"
   ]
  },
  {
   "cell_type": "code",
   "execution_count": 62,
   "metadata": {
    "collapsed": true
   },
   "outputs": [],
   "source": [
    "eps = 1e-12"
   ]
  },
  {
   "cell_type": "markdown",
   "metadata": {},
   "source": [
    "## Формула центральных прямоугольников"
   ]
  },
  {
   "cell_type": "code",
   "execution_count": 66,
   "metadata": {},
   "outputs": [
    {
     "name": "stdout",
     "output_type": "stream",
     "text": [
      "65536 -0.2398117420017123\n"
     ]
    }
   ],
   "source": [
    "cent_rect_p = 2\n",
    "\n",
    "n = 1\n",
    "while abs((cent_rect(2*n) - cent_rect(n)) / (2**cent_rect_p -1)) > eps:\n",
    "    n *= 2\n",
    "\n",
    "print(n, cent_rect(n))"
   ]
  },
  {
   "cell_type": "markdown",
   "metadata": {},
   "source": [
    "## Формула трапеций"
   ]
  },
  {
   "cell_type": "code",
   "execution_count": 67,
   "metadata": {},
   "outputs": [
    {
     "name": "stdout",
     "output_type": "stream",
     "text": [
      "65536 -0.2398117419982705\n"
     ]
    }
   ],
   "source": [
    "trapeze_p = 2\n",
    "\n",
    "n = 1\n",
    "while abs((trapeze(2*n) - trapeze(n)) / (2**trapeze_p -1)) > eps:\n",
    "    n *= 2 \n",
    "    \n",
    "print(n, trapeze(n))"
   ]
  },
  {
   "cell_type": "markdown",
   "metadata": {},
   "source": [
    "## Формула Симпсона"
   ]
  },
  {
   "cell_type": "code",
   "execution_count": 68,
   "metadata": {},
   "outputs": [
    {
     "name": "stdout",
     "output_type": "stream",
     "text": [
      "64 -0.23981174200218452\n"
     ]
    }
   ],
   "source": [
    "simpson_p = 4\n",
    "\n",
    "n = 1\n",
    "while abs((simpson(2*n) - simpson(n)) / (2**simpson_p -1)) > eps:\n",
    "    n *= 2 \n",
    "    \n",
    "print(n, simpson(n))"
   ]
  }
 ],
 "metadata": {
  "kernelspec": {
   "display_name": "Python 3",
   "language": "python",
   "name": "python3"
  },
  "language_info": {
   "codemirror_mode": {
    "name": "ipython",
    "version": 3
   },
   "file_extension": ".py",
   "mimetype": "text/x-python",
   "name": "python",
   "nbconvert_exporter": "python",
   "pygments_lexer": "ipython3",
   "version": "3.6.3"
  }
 },
 "nbformat": 4,
 "nbformat_minor": 2
}
